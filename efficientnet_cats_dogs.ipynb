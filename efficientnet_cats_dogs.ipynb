{
  "nbformat": 4,
  "nbformat_minor": 0,
  "metadata": {
    "colab": {
      "name": "efficientnet-cats-dogs.ipynb",
      "provenance": [],
      "authorship_tag": "ABX9TyPLLyPcb/uwir6gQkYscWBQ",
      "include_colab_link": true
    },
    "kernelspec": {
      "name": "python3",
      "display_name": "Python 3"
    },
    "accelerator": "GPU"
  },
  "cells": [
    {
      "cell_type": "markdown",
      "metadata": {
        "id": "view-in-github",
        "colab_type": "text"
      },
      "source": [
        "<a href=\"https://colab.research.google.com/github/sushruta/ml-notebooks/blob/main/efficientnet_cats_dogs.ipynb\" target=\"_parent\"><img src=\"https://colab.research.google.com/assets/colab-badge.svg\" alt=\"Open In Colab\"/></a>"
      ]
    },
    {
      "cell_type": "markdown",
      "metadata": {
        "id": "xXjxHpOBG7V_"
      },
      "source": [
        "## Cats and Dogs detection using Efficientnet model\n",
        "\n",
        "Let us use efficientnet model B0 model to train a model that can take a picture of cats and dogs and return the animal in question.\n",
        "\n",
        "Efficientnet models are there from B0 to B7 with increasing number of parameters in them. B0 model is attractive for the reason that it's a very small model compared to the accuracy it delivers."
      ]
    },
    {
      "cell_type": "code",
      "metadata": {
        "id": "GwsaMA5l1nwx"
      },
      "source": [
        "import numpy as np\n",
        "import matplotlib.pyplot as plt\n",
        "\n",
        "from sklearn.metrics import confusion_matrix\n",
        "from sklearn.metrics import accuracy_score\n",
        "from sklearn.metrics import classification_report"
      ],
      "execution_count": null,
      "outputs": []
    },
    {
      "cell_type": "code",
      "metadata": {
        "id": "ogPlMBU42Fpm"
      },
      "source": [
        "import tensorflow as tf\n",
        "from tensorflow import keras\n",
        "from tensorflow.keras import layers"
      ],
      "execution_count": null,
      "outputs": []
    },
    {
      "cell_type": "code",
      "metadata": {
        "id": "BLP-AlKU2Gzv",
        "outputId": "e6d24e04-30d5-4d89-ab42-5a6a4b639928",
        "colab": {
          "base_uri": "https://localhost:8080/",
          "height": 34
        }
      },
      "source": [
        "print(tf.__version__, keras.__version__)"
      ],
      "execution_count": null,
      "outputs": [
        {
          "output_type": "stream",
          "text": [
            "2.3.0 2.4.0\n"
          ],
          "name": "stdout"
        }
      ]
    },
    {
      "cell_type": "code",
      "metadata": {
        "id": "UizzuLUt2Jd1",
        "outputId": "0c3573a5-824b-4258-ada3-18aabb4bda1b",
        "colab": {
          "base_uri": "https://localhost:8080/",
          "height": 326
        }
      },
      "source": [
        "!pip install efficientnet"
      ],
      "execution_count": null,
      "outputs": [
        {
          "output_type": "stream",
          "text": [
            "Requirement already satisfied: efficientnet in /usr/local/lib/python3.6/dist-packages (1.1.1)\n",
            "Requirement already satisfied: scikit-image in /usr/local/lib/python3.6/dist-packages (from efficientnet) (0.16.2)\n",
            "Requirement already satisfied: keras-applications<=1.0.8,>=1.0.7 in /usr/local/lib/python3.6/dist-packages (from efficientnet) (1.0.8)\n",
            "Requirement already satisfied: networkx>=2.0 in /usr/local/lib/python3.6/dist-packages (from scikit-image->efficientnet) (2.5)\n",
            "Requirement already satisfied: matplotlib!=3.0.0,>=2.0.0 in /usr/local/lib/python3.6/dist-packages (from scikit-image->efficientnet) (3.2.2)\n",
            "Requirement already satisfied: scipy>=0.19.0 in /usr/local/lib/python3.6/dist-packages (from scikit-image->efficientnet) (1.4.1)\n",
            "Requirement already satisfied: pillow>=4.3.0 in /usr/local/lib/python3.6/dist-packages (from scikit-image->efficientnet) (7.0.0)\n",
            "Requirement already satisfied: imageio>=2.3.0 in /usr/local/lib/python3.6/dist-packages (from scikit-image->efficientnet) (2.4.1)\n",
            "Requirement already satisfied: PyWavelets>=0.4.0 in /usr/local/lib/python3.6/dist-packages (from scikit-image->efficientnet) (1.1.1)\n",
            "Requirement already satisfied: h5py in /usr/local/lib/python3.6/dist-packages (from keras-applications<=1.0.8,>=1.0.7->efficientnet) (2.10.0)\n",
            "Requirement already satisfied: numpy>=1.9.1 in /usr/local/lib/python3.6/dist-packages (from keras-applications<=1.0.8,>=1.0.7->efficientnet) (1.18.5)\n",
            "Requirement already satisfied: decorator>=4.3.0 in /usr/local/lib/python3.6/dist-packages (from networkx>=2.0->scikit-image->efficientnet) (4.4.2)\n",
            "Requirement already satisfied: python-dateutil>=2.1 in /usr/local/lib/python3.6/dist-packages (from matplotlib!=3.0.0,>=2.0.0->scikit-image->efficientnet) (2.8.1)\n",
            "Requirement already satisfied: kiwisolver>=1.0.1 in /usr/local/lib/python3.6/dist-packages (from matplotlib!=3.0.0,>=2.0.0->scikit-image->efficientnet) (1.2.0)\n",
            "Requirement already satisfied: cycler>=0.10 in /usr/local/lib/python3.6/dist-packages (from matplotlib!=3.0.0,>=2.0.0->scikit-image->efficientnet) (0.10.0)\n",
            "Requirement already satisfied: pyparsing!=2.0.4,!=2.1.2,!=2.1.6,>=2.0.1 in /usr/local/lib/python3.6/dist-packages (from matplotlib!=3.0.0,>=2.0.0->scikit-image->efficientnet) (2.4.7)\n",
            "Requirement already satisfied: six in /usr/local/lib/python3.6/dist-packages (from h5py->keras-applications<=1.0.8,>=1.0.7->efficientnet) (1.15.0)\n"
          ],
          "name": "stdout"
        }
      ]
    },
    {
      "cell_type": "code",
      "metadata": {
        "id": "w0s3AAhF2Rzk"
      },
      "source": [
        "import efficientnet.keras as enet"
      ],
      "execution_count": null,
      "outputs": []
    },
    {
      "cell_type": "code",
      "metadata": {
        "id": "KpMdXS1G3Adk",
        "outputId": "0963a9f7-ba2d-4f34-ccce-01d26f519996",
        "colab": {
          "base_uri": "https://localhost:8080/",
          "height": 71
        }
      },
      "source": [
        "IMG_SHAPE = (250, 250, 3)\n",
        "\n",
        "base_model = enet.EfficientNetB0(\n",
        "    include_top=False,\n",
        "    weights='imagenet',\n",
        "    input_shape=IMG_SHAPE\n",
        ")"
      ],
      "execution_count": null,
      "outputs": [
        {
          "output_type": "stream",
          "text": [
            "Downloading data from https://github.com/Callidior/keras-applications/releases/download/efficientnet/efficientnet-b0_weights_tf_dim_ordering_tf_kernels_autoaugment_notop.h5\n",
            "16809984/16804768 [==============================] - 1s 0us/step\n"
          ],
          "name": "stdout"
        }
      ]
    },
    {
      "cell_type": "code",
      "metadata": {
        "id": "IG2SzGY-3Fjb"
      },
      "source": [
        "def get_dataset():\n",
        "  from tensorflow.keras.preprocessing import image_dataset_from_directory\n",
        "  import os\n",
        "\n",
        "  _URL = 'https://storage.googleapis.com/mledu-datasets/cats_and_dogs_filtered.zip'\n",
        "  path_to_zip = tf.keras.utils.get_file('cats_and_dogs.zip', origin=_URL, extract=True)\n",
        "  PATH = os.path.join(os.path.dirname(path_to_zip), 'cats_and_dogs_filtered')\n",
        "\n",
        "  train_dir = os.path.join(PATH, 'train')\n",
        "  validation_dir = os.path.join(PATH, 'validation')\n",
        "\n",
        "  BATCH_SIZE = 32\n",
        "  IMG_SIZE = (250, 250)\n",
        "\n",
        "  train_dataset = image_dataset_from_directory(\n",
        "      train_dir,\n",
        "      shuffle=True,\n",
        "      batch_size=BATCH_SIZE,\n",
        "      image_size=IMG_SIZE\n",
        "  )\n",
        "\n",
        "  validation_dataset = image_dataset_from_directory(\n",
        "      validation_dir,\n",
        "      shuffle=True,\n",
        "      batch_size=BATCH_SIZE,\n",
        "      image_size=IMG_SIZE\n",
        "  )\n",
        "\n",
        "  validation_batches = tf.data.experimental.cardinality(validation_dataset)\n",
        "\n",
        "  test_dataset = validation_dataset.take(validation_batches // 5)\n",
        "  validation_dataset = validation_dataset.skip(validation_batches // 5)\n",
        "\n",
        "  return (train_dataset, validation_dataset, test_dataset)"
      ],
      "execution_count": null,
      "outputs": []
    },
    {
      "cell_type": "code",
      "metadata": {
        "id": "WrnpiBXv7Z__",
        "outputId": "ad301437-51e5-4482-a024-d5713551de2a",
        "colab": {
          "base_uri": "https://localhost:8080/",
          "height": 51
        }
      },
      "source": [
        "train_dataset, validation_dataset, test_dataset = get_dataset()\n",
        "\n",
        "AUTOTUNE = tf.data.experimental.AUTOTUNE\n",
        "\n",
        "train_dataset = train_dataset.prefetch(buffer_size=AUTOTUNE)\n",
        "validation_dataset = validation_dataset.prefetch(buffer_size=AUTOTUNE)\n",
        "test_dataset = test_dataset.prefetch(buffer_size=AUTOTUNE)"
      ],
      "execution_count": null,
      "outputs": [
        {
          "output_type": "stream",
          "text": [
            "Found 2000 files belonging to 2 classes.\n",
            "Found 1000 files belonging to 2 classes.\n"
          ],
          "name": "stdout"
        }
      ]
    },
    {
      "cell_type": "markdown",
      "metadata": {
        "id": "vP6h494sK81s"
      },
      "source": [
        "Let us augment our dataset with some more data. Flip the images a bit here and there to get some new images"
      ]
    },
    {
      "cell_type": "code",
      "metadata": {
        "id": "e1xfEAiZ74M8"
      },
      "source": [
        "data_augmentation = tf.keras.Sequential([\n",
        "    tf.keras.layers.experimental.preprocessing.RandomFlip('horizontal'),\n",
        "    tf.keras.layers.experimental.preprocessing.RandomRotation(0.2)\n",
        "])\n",
        "\n",
        "rescale = tf.keras.layers.experimental.preprocessing.Rescaling(1/255)"
      ],
      "execution_count": null,
      "outputs": []
    },
    {
      "cell_type": "code",
      "metadata": {
        "id": "Mfc8f9pF8emI"
      },
      "source": [
        "base_model.trainable = False\n",
        "\n",
        "global_max_layer = tf.keras.layers.GlobalMaxPool2D()\n",
        "\n",
        "prediction_layer = tf.keras.layers.Dense(1)"
      ],
      "execution_count": null,
      "outputs": []
    },
    {
      "cell_type": "code",
      "metadata": {
        "id": "B8KRu4cL9Uji"
      },
      "source": [
        "inputs = tf.keras.Input(shape=IMG_SHAPE)\n",
        "\n",
        "mid_layer = data_augmentation(inputs)\n",
        "mid_layer = rescale(mid_layer)\n",
        "mid_layer = base_model(mid_layer, training=False)\n",
        "mid_layer = global_max_layer(mid_layer)\n",
        "mid_layer = tf.keras.layers.Dropout(0.3)(mid_layer)\n",
        "\n",
        "outputs = prediction_layer(mid_layer)"
      ],
      "execution_count": null,
      "outputs": []
    },
    {
      "cell_type": "code",
      "metadata": {
        "id": "CzcMydb7-pdq"
      },
      "source": [
        "model = tf.keras.Model(inputs, outputs)"
      ],
      "execution_count": null,
      "outputs": []
    },
    {
      "cell_type": "code",
      "metadata": {
        "id": "eEV3FzHw-z5_",
        "outputId": "ab49ab11-ca0c-4677-cff2-7b5716c87897",
        "colab": {
          "base_uri": "https://localhost:8080/",
          "height": 391
        }
      },
      "source": [
        "model.compile(\n",
        "    loss=tf.keras.losses.categorical_crossentropy,\n",
        "    optimizer=tf.keras.optimizers.Adam(lr=0.001),\n",
        "    metrics=['accuracy']\n",
        ")\n",
        "\n",
        "model.summary()"
      ],
      "execution_count": null,
      "outputs": [
        {
          "output_type": "stream",
          "text": [
            "Model: \"functional_1\"\n",
            "_________________________________________________________________\n",
            "Layer (type)                 Output Shape              Param #   \n",
            "=================================================================\n",
            "input_2 (InputLayer)         [(None, 250, 250, 3)]     0         \n",
            "_________________________________________________________________\n",
            "sequential (Sequential)      (None, 250, 250, 3)       0         \n",
            "_________________________________________________________________\n",
            "rescaling (Rescaling)        (None, 250, 250, 3)       0         \n",
            "_________________________________________________________________\n",
            "efficientnet-b0 (Functional) (None, 8, 8, 1280)        4049564   \n",
            "_________________________________________________________________\n",
            "global_max_pooling2d (Global (None, 1280)              0         \n",
            "_________________________________________________________________\n",
            "dropout (Dropout)            (None, 1280)              0         \n",
            "_________________________________________________________________\n",
            "dense (Dense)                (None, 1)                 1281      \n",
            "=================================================================\n",
            "Total params: 4,050,845\n",
            "Trainable params: 1,281\n",
            "Non-trainable params: 4,049,564\n",
            "_________________________________________________________________\n"
          ],
          "name": "stdout"
        }
      ]
    },
    {
      "cell_type": "code",
      "metadata": {
        "id": "WMvANew_AQtG",
        "outputId": "47090dce-0a03-47f4-9d87-5fe1544db9f2",
        "colab": {
          "base_uri": "https://localhost:8080/",
          "height": 34
        }
      },
      "source": [
        "initial_epochs = 10\n",
        "\n",
        "loss0, accuracy0 = model.evaluate(validation_dataset)"
      ],
      "execution_count": null,
      "outputs": [
        {
          "output_type": "stream",
          "text": [
            "26/26 [==============================] - 2s 65ms/step - loss: 6.1523e-08 - accuracy: 0.4653\n"
          ],
          "name": "stdout"
        }
      ]
    },
    {
      "cell_type": "code",
      "metadata": {
        "id": "2a6tiDyaAgQO",
        "outputId": "30767245-ce7b-4f5d-9615-a589f38eeb6b",
        "colab": {
          "base_uri": "https://localhost:8080/",
          "height": 207
        }
      },
      "source": [
        "history = model.fit(\n",
        "    train_dataset,\n",
        "    epochs=5,\n",
        "    validation_data=validation_dataset\n",
        ")"
      ],
      "execution_count": null,
      "outputs": [
        {
          "output_type": "stream",
          "text": [
            "Epoch 1/5\n",
            "63/63 [==============================] - 7s 107ms/step - loss: 5.9605e-08 - accuracy: 0.4890 - val_loss: 6.0047e-08 - val_accuracy: 0.4629\n",
            "Epoch 2/5\n",
            "63/63 [==============================] - 7s 106ms/step - loss: 5.9605e-08 - accuracy: 0.4805 - val_loss: 5.9605e-08 - val_accuracy: 0.4691\n",
            "Epoch 3/5\n",
            "63/63 [==============================] - 7s 106ms/step - loss: 5.9605e-08 - accuracy: 0.4835 - val_loss: 6.1523e-08 - val_accuracy: 0.4616\n",
            "Epoch 4/5\n",
            "63/63 [==============================] - 7s 105ms/step - loss: 5.9605e-08 - accuracy: 0.4690 - val_loss: 6.0490e-08 - val_accuracy: 0.4616\n",
            "Epoch 5/5\n",
            "63/63 [==============================] - 7s 105ms/step - loss: 5.9605e-08 - accuracy: 0.4745 - val_loss: 6.0195e-08 - val_accuracy: 0.4666\n"
          ],
          "name": "stdout"
        }
      ]
    },
    {
      "cell_type": "code",
      "metadata": {
        "id": "_4axz2b262iX",
        "outputId": "f8010868-3631-401c-e790-06ff529a920e",
        "colab": {
          "base_uri": "https://localhost:8080/",
          "height": 513
        }
      },
      "source": [
        "acc = history.history['accuracy']\n",
        "val_acc = history.history['val_accuracy']\n",
        "\n",
        "loss = history.history['loss']\n",
        "val_loss = history.history['val_loss']\n",
        "\n",
        "plt.figure(figsize=(8, 8))\n",
        "plt.subplot(2, 1, 1)\n",
        "plt.plot(acc, label='Training Accuracy')\n",
        "plt.plot(val_acc, label='Validation Accuracy')\n",
        "plt.legend(loc='lower right')\n",
        "plt.ylabel('Accuracy')\n",
        "plt.ylim([min(plt.ylim()),1])\n",
        "plt.title('Training and Validation Accuracy')\n",
        "\n",
        "plt.subplot(2, 1, 2)\n",
        "plt.plot(loss, label='Training Loss')\n",
        "plt.plot(val_loss, label='Validation Loss')\n",
        "plt.legend(loc='upper right')\n",
        "plt.ylabel('Cross Entropy')\n",
        "plt.ylim([0,1.0])\n",
        "plt.title('Training and Validation Loss')\n",
        "plt.xlabel('epoch')\n",
        "plt.show()"
      ],
      "execution_count": null,
      "outputs": [
        {
          "output_type": "display_data",
          "data": {
            "image/png": "[encoded data removed]",
            "text/plain": [
              "<Figure size 576x576 with 2 Axes>"
            ]
          },
          "metadata": {
            "tags": [],
            "needs_background": "light"
          }
        }
      ]
    },
    {
      "cell_type": "code",
      "metadata": {
        "id": "9uDc408jDfEV",
        "outputId": "864b94c3-6128-498b-8e33-32cbfaf9647a",
        "colab": {
          "base_uri": "https://localhost:8080/",
          "height": 408
        }
      },
      "source": [
        "base_model.trainable = True\n",
        "\n",
        "print(\"number of layers in the base model: {0}\".format(len(base_model.layers)))\n",
        "\n",
        "num_layers_to_retrain = 100\n",
        "for layer in base_model.layers[:num_layers_to_retrain]:\n",
        "  layer.trainable = False\n",
        "\n",
        "model.compile(\n",
        "    optimizer=tf.keras.optimizers.RMSprop(lr=0.0001),\n",
        "    loss=tf.keras.losses.BinaryCrossentropy(from_logits=True),\n",
        "    metrics=['accuracy']\n",
        ")\n",
        "\n",
        "model.summary()"
      ],
      "execution_count": null,
      "outputs": [
        {
          "output_type": "stream",
          "text": [
            "number of layers in the base model: 230\n",
            "Model: \"functional_1\"\n",
            "_________________________________________________________________\n",
            "Layer (type)                 Output Shape              Param #   \n",
            "=================================================================\n",
            "input_2 (InputLayer)         [(None, 250, 250, 3)]     0         \n",
            "_________________________________________________________________\n",
            "sequential (Sequential)      (None, 250, 250, 3)       0         \n",
            "_________________________________________________________________\n",
            "rescaling (Rescaling)        (None, 250, 250, 3)       0         \n",
            "_________________________________________________________________\n",
            "efficientnet-b0 (Functional) (None, 8, 8, 1280)        4049564   \n",
            "_________________________________________________________________\n",
            "global_max_pooling2d (Global (None, 1280)              0         \n",
            "_________________________________________________________________\n",
            "dropout (Dropout)            (None, 1280)              0         \n",
            "_________________________________________________________________\n",
            "dense (Dense)                (None, 1)                 1281      \n",
            "=================================================================\n",
            "Total params: 4,050,845\n",
            "Trainable params: 3,763,709\n",
            "Non-trainable params: 287,136\n",
            "_________________________________________________________________\n"
          ],
          "name": "stdout"
        }
      ]
    },
    {
      "cell_type": "code",
      "metadata": {
        "id": "uqvodbkcFI6B",
        "outputId": "5610fa3f-4e61-496c-ff81-5a6d1f288235",
        "colab": {
          "base_uri": "https://localhost:8080/",
          "height": 377
        }
      },
      "source": [
        "history_fine = model.fit(\n",
        "    train_dataset,\n",
        "    epochs=10,\n",
        "    validation_data=validation_dataset\n",
        ")"
      ],
      "execution_count": null,
      "outputs": [
        {
          "output_type": "stream",
          "text": [
            "Epoch 1/10\n",
            "63/63 [==============================] - 10s 151ms/step - loss: 0.3383 - accuracy: 0.8920 - val_loss: 0.0412 - val_accuracy: 0.9827\n",
            "Epoch 2/10\n",
            "63/63 [==============================] - 8s 135ms/step - loss: 0.1373 - accuracy: 0.9505 - val_loss: 0.0490 - val_accuracy: 0.9790\n",
            "Epoch 3/10\n",
            "63/63 [==============================] - 8s 134ms/step - loss: 0.0831 - accuracy: 0.9700 - val_loss: 0.0671 - val_accuracy: 0.9765\n",
            "Epoch 4/10\n",
            "63/63 [==============================] - 8s 135ms/step - loss: 0.0723 - accuracy: 0.9725 - val_loss: 0.0307 - val_accuracy: 0.9851\n",
            "Epoch 5/10\n",
            "63/63 [==============================] - 8s 135ms/step - loss: 0.0499 - accuracy: 0.9780 - val_loss: 0.0436 - val_accuracy: 0.9814\n",
            "Epoch 6/10\n",
            "63/63 [==============================] - 9s 135ms/step - loss: 0.0379 - accuracy: 0.9885 - val_loss: 0.0433 - val_accuracy: 0.9864\n",
            "Epoch 7/10\n",
            "63/63 [==============================] - 8s 134ms/step - loss: 0.0262 - accuracy: 0.9915 - val_loss: 0.0490 - val_accuracy: 0.9851\n",
            "Epoch 8/10\n",
            "63/63 [==============================] - 8s 134ms/step - loss: 0.0284 - accuracy: 0.9925 - val_loss: 0.0576 - val_accuracy: 0.9839\n",
            "Epoch 9/10\n",
            "63/63 [==============================] - 9s 135ms/step - loss: 0.0157 - accuracy: 0.9935 - val_loss: 0.0559 - val_accuracy: 0.9839\n",
            "Epoch 10/10\n",
            "63/63 [==============================] - 8s 134ms/step - loss: 0.0118 - accuracy: 0.9935 - val_loss: 0.0476 - val_accuracy: 0.9876\n"
          ],
          "name": "stdout"
        }
      ]
    },
    {
      "cell_type": "code",
      "metadata": {
        "id": "EsiZycQhF3_r"
      },
      "source": [
        "acc += history_fine.history['accuracy']\n",
        "val_acc += history_fine.history['val_accuracy']\n",
        "\n",
        "loss += history_fine.history['loss']\n",
        "val_loss += history_fine.history['val_loss']"
      ],
      "execution_count": null,
      "outputs": []
    },
    {
      "cell_type": "code",
      "metadata": {
        "id": "CIM0CSfwF4fG",
        "outputId": "3368052b-a5cb-407a-a964-2526c8ebaaec",
        "colab": {
          "base_uri": "https://localhost:8080/",
          "height": 513
        }
      },
      "source": [
        "plt.figure(figsize=(8, 8))\n",
        "plt.subplot(2, 1, 1)\n",
        "plt.plot(acc, label='Training Accuracy')\n",
        "plt.plot(val_acc, label='Validation Accuracy')\n",
        "plt.ylim([0.8, 1])\n",
        "plt.plot([initial_epochs-1,initial_epochs-1],\n",
        "          plt.ylim(), label='Start Fine Tuning')\n",
        "plt.legend(loc='lower right')\n",
        "plt.title('Training and Validation Accuracy')\n",
        "\n",
        "plt.subplot(2, 1, 2)\n",
        "plt.plot(loss, label='Training Loss')\n",
        "plt.plot(val_loss, label='Validation Loss')\n",
        "plt.ylim([0, 1.0])\n",
        "plt.plot([initial_epochs-1,initial_epochs-1],\n",
        "         plt.ylim(), label='Start Fine Tuning')\n",
        "plt.legend(loc='upper right')\n",
        "plt.title('Training and Validation Loss')\n",
        "plt.xlabel('epoch')\n",
        "plt.show()"
      ],
      "execution_count": null,
      "outputs": [
        {
          "output_type": "display_data",
          "data": {
            "image/png": "[encoded data removed]",
            "text/plain": [
              "<Figure size 576x576 with 2 Axes>"
            ]
          },
          "metadata": {
            "tags": [],
            "needs_background": "light"
          }
        }
      ]
    },
    {
      "cell_type": "code",
      "metadata": {
        "id": "rKM9PR7kGA9s",
        "outputId": "5d1022b2-e9e7-4cfb-d3fb-d62cf1ae62b2",
        "colab": {
          "base_uri": "https://localhost:8080/",
          "height": 51
        }
      },
      "source": [
        "loss, accuracy = model.evaluate(test_dataset)\n",
        "print('Test accuracy :', accuracy)"
      ],
      "execution_count": null,
      "outputs": [
        {
          "output_type": "stream",
          "text": [
            "6/6 [==============================] - 0s 60ms/step - loss: 0.0856 - accuracy: 0.9844\n",
            "Test accuracy : 0.984375\n"
          ],
          "name": "stdout"
        }
      ]
    },
    {
      "cell_type": "code",
      "metadata": {
        "id": "-bHxPAJ_GBk7",
        "outputId": "6968a8a9-1865-462e-b618-d85b67822572",
        "colab": {
          "base_uri": "https://localhost:8080/",
          "height": 425
        }
      },
      "source": [
        "all_preds = []\n",
        "all_labels = []\n",
        "\n",
        "image_batch, label_batch = test_dataset.as_numpy_iterator().next()\n",
        "for i in range(15):\n",
        "  preds = model.predict_on_batch(image_batch).flatten()\n",
        "\n",
        "  print(label_batch)\n",
        "\n",
        "  preds = tf.nn.sigmoid(preds)\n",
        "  preds = tf.where(preds < 0.5, 0, 1)\n",
        "\n",
        "  all_preds = all_preds + preds.numpy().tolist()\n",
        "  all_labels = all_labels + label_batch.tolist()\n",
        "\n",
        "  image_batch, label_batch = test_dataset.as_numpy_iterator().next()\n",
        "\n",
        "report = classification_report(\n",
        "    all_labels,\n",
        "    all_preds\n",
        ")\n",
        "\n",
        "print(report)"
      ],
      "execution_count": null,
      "outputs": [
        {
          "output_type": "stream",
          "text": [
            "[1 0 1 1 0 1 0 0 1 1 0 0 0 0 0 0 0 0 0 1 1 0 1 1 0 0 0 0 1 0 0 0]\n",
            "[0 0 0 0 0 1 0 1 0 1 1 1 0 1 0 1 0 1 1 1 0 1 0 1 0 1 0 0 0 0 0 1]\n",
            "[0 0 0 0 1 0 0 1 0 0 1 0 1 1 1 0 1 0 1 1 0 1 1 0 1 1 0 1 0 1 0 1]\n",
            "[0 0 0 0 1 1 1 1 0 1 0 0 0 0 1 0 0 0 0 0 0 0 1 0 1 0 1 1 0 0 1 1]\n",
            "[0 0 1 0 0 0 1 0 0 0 1 1 1 0 1 1 0 1 0 0 1 1 1 0 0 1 0 1 1 1 1 1]\n",
            "[0 1 0 0 1 1 0 0 0 1 1 0 1 0 0 0 0 0 1 1 0 0 0 1 1 0 1 0 0 1 0 0]\n",
            "[1 0 0 0 1 0 1 0 1 0 0 0 0 0 0 1 0 0 1 0 0 0 1 0 0 0 0 0 0 1 0 1]\n",
            "[0 0 0 1 0 1 0 1 0 0 0 0 1 1 0 1 1 0 0 0 0 1 0 1 1 1 1 0 0 1 0 1]\n",
            "[1 0 1 0 0 0 0 1 0 1 0 1 1 0 1 0 0 1 1 1 0 0 0 1 0 0 0 1 0 0 0 0]\n",
            "[0 0 0 0 0 1 0 0 0 0 0 1 0 0 1 0 0 1 1 1 0 0 1 0 0 0 0 0 0 1 0 1]\n",
            "[0 0 1 1 0 0 1 1 0 0 1 0 1 1 1 0 1 0 1 1 0 1 1 1 0 0 0 1 1 0 1 0]\n",
            "[1 1 0 0 1 0 0 1 0 1 1 0 1 0 1 0 1 1 1 1 1 1 1 1 1 1 0 0 1 1 1 1]\n",
            "[1 1 1 1 1 0 0 0 0 0 1 1 0 0 1 1 0 0 1 1 1 0 1 0 0 0 0 1 1 1 1 1]\n",
            "[0 0 1 1 1 0 0 1 0 0 1 1 1 0 0 1 0 1 1 1 0 1 1 0 1 0 1 1 0 0 1 1]\n",
            "[0 0 0 1 0 1 0 1 0 1 1 1 0 0 0 0 0 0 0 1 1 0 0 1 1 1 1 1 0 1 0 1]\n",
            "              precision    recall  f1-score   support\n",
            "\n",
            "           0       1.00      0.98      0.99       264\n",
            "           1       0.98      1.00      0.99       216\n",
            "\n",
            "    accuracy                           0.99       480\n",
            "   macro avg       0.99      0.99      0.99       480\n",
            "weighted avg       0.99      0.99      0.99       480\n",
            "\n"
          ],
          "name": "stdout"
        }
      ]
    }
  ]
}